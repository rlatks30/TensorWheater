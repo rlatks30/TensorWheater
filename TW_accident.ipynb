{
 "cells": [
  {
   "cell_type": "markdown",
   "metadata": {},
   "source": [
    "# 201644004_김산 딥러닝 프로젝트 텐서웨더, 교통사고"
   ]
  },
  {
   "cell_type": "code",
   "execution_count": 1,
   "metadata": {},
   "outputs": [
    {
     "name": "stdout",
     "output_type": "stream",
     "text": [
      "1 Physical GPUs, 1 Logical GPUs\n"
     ]
    }
   ],
   "source": [
    "import tensorflow as tf\n",
    "gpus = tf.config.experimental.list_physical_devices('GPU')\n",
    "if gpus:\n",
    "    try:\n",
    "        # Currently, memory growth needs to be the same across GPUs\n",
    "        for gpu in gpus:\n",
    "            tf.config.experimental.set_memory_growth(gpu, True)\n",
    "        logical_gpus = tf.config.experimental.list_logical_devices('GPU')\n",
    "        print(len(gpus), \"Physical GPUs,\", len(logical_gpus), \"Logical GPUs\")\n",
    "    except RuntimeError as e:\n",
    "        # Memory growth must be set before GPUs have been initialized\n",
    "        print(e)\n",
    "from keras.models import Sequential\n",
    "from keras.layers import Dense\n",
    "from tensorflow.keras import optimizers\n",
    "from keras.models import load_model\n",
    "import pandas as pd\n",
    "import matplotlib.pyplot as plt\n",
    "import numpy as np\n",
    "import sklearn\n",
    "from sklearn.preprocessing import *"
   ]
  },
  {
   "cell_type": "code",
   "execution_count": 2,
   "metadata": {},
   "outputs": [],
   "source": [
    "def min_max_normalize(lst):\n",
    "    normalized = []\n",
    "    \n",
    "    for value in lst:\n",
    "        normalized_num = (value - min(int(lst))) / (max(int(lst)) - min(int(lst)))\n",
    "        normalized.append(normalized_num)\n",
    "    \n",
    "    return normalized"
   ]
  },
  {
   "cell_type": "code",
   "execution_count": 2,
   "metadata": {},
   "outputs": [
    {
     "name": "stdout",
     "output_type": "stream",
     "text": [
      "Index(['year', 'avgTemp', 'minTemp', 'maxTemp', 'rainFall', 'accident',\n",
      "       'dead'],\n",
      "      dtype='object')\n"
     ]
    }
   ],
   "source": [
    "path = 'C:\\TensorWeather\\TW_accident2.csv'\n",
    "data = pd.read_csv(path)\n",
    "#ss_data=StandardScaler().fit_transform(data)\n",
    "print(data.columns)"
   ]
  },
  {
   "cell_type": "code",
   "execution_count": 34,
   "metadata": {
    "scrolled": true
   },
   "outputs": [
    {
     "name": "stdout",
     "output_type": "stream",
     "text": [
      "(1826, 4) (1826, 1) (1826, 1)\n"
     ]
    }
   ],
   "source": [
    "#inpu = MinMaxScaler().fit_transform(data[['avgTemp', 'minTemp', 'maxTemp', 'rainFall']])\n",
    "#oup = MinMaxScaler().fit_transform(data[['accident', 'dead']])\n",
    "inpu = data[['avgTemp', 'minTemp', 'maxTemp', 'rainFall']]\n",
    "oup_acc = data[['accident']]\n",
    "oup_dead = data[['dead']]\n",
    "oup = data[['accident', 'dead']]\n",
    "print(inpu.shape, oup_acc.shape,oup_dead.shape)"
   ]
  },
  {
   "cell_type": "code",
   "execution_count": 54,
   "metadata": {},
   "outputs": [],
   "source": [
    "sgd = optimizers.SGD(lr=0.001, decay=1e-6, momentum=0.9, nesterov=True)"
   ]
  },
  {
   "cell_type": "code",
   "execution_count": 54,
   "metadata": {},
   "outputs": [
    {
     "name": "stdout",
     "output_type": "stream",
     "text": [
      "Model: \"functional_3\"\n",
      "_________________________________________________________________\n",
      "Layer (type)                 Output Shape              Param #   \n",
      "=================================================================\n",
      "input_2 (InputLayer)         [(None, 4)]               0         \n",
      "_________________________________________________________________\n",
      "dense_3 (Dense)              (None, 20)                100       \n",
      "_________________________________________________________________\n",
      "dense_4 (Dense)              (None, 15)                315       \n",
      "_________________________________________________________________\n",
      "dense_5 (Dense)              (None, 2)                 32        \n",
      "=================================================================\n",
      "Total params: 447\n",
      "Trainable params: 447\n",
      "Non-trainable params: 0\n",
      "_________________________________________________________________\n"
     ]
    }
   ],
   "source": [
    "X = tf.keras.layers.Input(shape=[4])\n",
    "Y = tf.keras.layers.Dense(20,activation='relu')(X)\n",
    "Y = tf.keras.layers.Dense(15,activation='relu')(Y)\n",
    "Y = tf.keras.layers.Dense(2,activation='relu')(Y)\n",
    "model = tf.keras.models.Model(X, Y)\n",
    "model.compile(loss='mean_squared_logarithmic_error',\n",
    "    metrics=['accuracy'])\n",
    "model.summary()"
   ]
  },
  {
   "cell_type": "code",
   "execution_count": 55,
   "metadata": {
    "scrolled": true
   },
   "outputs": [
    {
     "name": "stdout",
     "output_type": "stream",
     "text": [
      "Epoch 1/100\n",
      "58/58 [==============================] - 0s 2ms/step - loss: 10.6857 - accuracy: 0.5838\n",
      "Epoch 2/100\n",
      "58/58 [==============================] - 0s 2ms/step - loss: 6.1462 - accuracy: 0.9885\n",
      "Epoch 3/100\n",
      "58/58 [==============================] - 0s 2ms/step - loss: 4.0942 - accuracy: 1.0000\n",
      "Epoch 4/100\n",
      "58/58 [==============================] - 0s 2ms/step - loss: 2.8312 - accuracy: 1.0000\n",
      "Epoch 5/100\n",
      "58/58 [==============================] - 0s 2ms/step - loss: 1.9610 - accuracy: 1.0000\n",
      "Epoch 6/100\n",
      "58/58 [==============================] - 0s 2ms/step - loss: 1.3650 - accuracy: 1.0000\n",
      "Epoch 7/100\n",
      "58/58 [==============================] - 0s 2ms/step - loss: 0.9687 - accuracy: 1.0000\n",
      "Epoch 8/100\n",
      "58/58 [==============================] - 0s 2ms/step - loss: 0.7028 - accuracy: 1.0000\n",
      "Epoch 9/100\n",
      "58/58 [==============================] - 0s 2ms/step - loss: 0.5236 - accuracy: 1.0000\n",
      "Epoch 10/100\n",
      "58/58 [==============================] - 0s 2ms/step - loss: 0.4036 - accuracy: 1.0000\n",
      "Epoch 11/100\n",
      "58/58 [==============================] - 0s 2ms/step - loss: 0.3266 - accuracy: 1.0000\n",
      "Epoch 12/100\n",
      "58/58 [==============================] - 0s 2ms/step - loss: 0.2738 - accuracy: 1.0000\n",
      "Epoch 13/100\n",
      "58/58 [==============================] - 0s 2ms/step - loss: 0.2361 - accuracy: 1.0000\n",
      "Epoch 14/100\n",
      "58/58 [==============================] - 0s 2ms/step - loss: 0.2097 - accuracy: 1.0000\n",
      "Epoch 15/100\n",
      "58/58 [==============================] - 0s 2ms/step - loss: 0.1901 - accuracy: 1.0000\n",
      "Epoch 16/100\n",
      "58/58 [==============================] - 0s 2ms/step - loss: 0.1740 - accuracy: 1.0000\n",
      "Epoch 17/100\n",
      "58/58 [==============================] - 0s 2ms/step - loss: 0.1606 - accuracy: 1.0000\n",
      "Epoch 18/100\n",
      "58/58 [==============================] - 0s 2ms/step - loss: 0.1502 - accuracy: 1.0000\n",
      "Epoch 19/100\n",
      "58/58 [==============================] - 0s 2ms/step - loss: 0.1403 - accuracy: 1.0000\n",
      "Epoch 20/100\n",
      "58/58 [==============================] - 0s 2ms/step - loss: 0.1312 - accuracy: 1.0000\n",
      "Epoch 21/100\n",
      "58/58 [==============================] - 0s 2ms/step - loss: 0.1250 - accuracy: 1.0000\n",
      "Epoch 22/100\n",
      "58/58 [==============================] - 0s 2ms/step - loss: 0.1204 - accuracy: 1.0000\n",
      "Epoch 23/100\n",
      "58/58 [==============================] - 0s 2ms/step - loss: 0.1163 - accuracy: 1.0000\n",
      "Epoch 24/100\n",
      "58/58 [==============================] - 0s 2ms/step - loss: 0.1130 - accuracy: 1.0000\n",
      "Epoch 25/100\n",
      "58/58 [==============================] - 0s 2ms/step - loss: 0.1097 - accuracy: 1.0000\n",
      "Epoch 26/100\n",
      "58/58 [==============================] - 0s 2ms/step - loss: 0.1095 - accuracy: 1.0000\n",
      "Epoch 27/100\n",
      "58/58 [==============================] - ETA: 0s - loss: 0.1071 - accuracy: 1.00 - 0s 2ms/step - loss: 0.1070 - accuracy: 1.0000\n",
      "Epoch 28/100\n",
      "58/58 [==============================] - 0s 2ms/step - loss: 0.1059 - accuracy: 1.0000\n",
      "Epoch 29/100\n",
      "58/58 [==============================] - 0s 2ms/step - loss: 0.1057 - accuracy: 1.0000\n",
      "Epoch 30/100\n",
      "58/58 [==============================] - 0s 2ms/step - loss: 0.1049 - accuracy: 1.0000\n",
      "Epoch 31/100\n",
      "58/58 [==============================] - ETA: 0s - loss: 0.1054 - accuracy: 1.00 - 0s 2ms/step - loss: 0.1045 - accuracy: 1.0000\n",
      "Epoch 32/100\n",
      "58/58 [==============================] - 0s 2ms/step - loss: 0.1038 - accuracy: 1.0000\n",
      "Epoch 33/100\n",
      "58/58 [==============================] - 0s 2ms/step - loss: 0.1023 - accuracy: 1.0000\n",
      "Epoch 34/100\n",
      "58/58 [==============================] - 0s 2ms/step - loss: 0.1030 - accuracy: 1.0000\n",
      "Epoch 35/100\n",
      "58/58 [==============================] - 0s 2ms/step - loss: 0.1019 - accuracy: 1.0000\n",
      "Epoch 36/100\n",
      "58/58 [==============================] - 0s 2ms/step - loss: 0.1016 - accuracy: 1.0000\n",
      "Epoch 37/100\n",
      "58/58 [==============================] - 0s 2ms/step - loss: 0.1007 - accuracy: 1.0000\n",
      "Epoch 38/100\n",
      "58/58 [==============================] - 0s 2ms/step - loss: 0.1014 - accuracy: 1.0000\n",
      "Epoch 39/100\n",
      "58/58 [==============================] - 0s 2ms/step - loss: 0.1012 - accuracy: 1.0000\n",
      "Epoch 40/100\n",
      "58/58 [==============================] - 0s 2ms/step - loss: 0.1000 - accuracy: 1.0000\n",
      "Epoch 41/100\n",
      "58/58 [==============================] - 0s 2ms/step - loss: 0.0999 - accuracy: 1.0000\n",
      "Epoch 42/100\n",
      "58/58 [==============================] - 0s 2ms/step - loss: 0.0990 - accuracy: 1.0000\n",
      "Epoch 43/100\n",
      "58/58 [==============================] - 0s 2ms/step - loss: 0.0992 - accuracy: 1.0000\n",
      "Epoch 44/100\n",
      "58/58 [==============================] - 0s 2ms/step - loss: 0.0988 - accuracy: 1.0000\n",
      "Epoch 45/100\n",
      "58/58 [==============================] - 0s 2ms/step - loss: 0.0994 - accuracy: 1.0000\n",
      "Epoch 46/100\n",
      "58/58 [==============================] - 0s 2ms/step - loss: 0.0988 - accuracy: 1.0000\n",
      "Epoch 47/100\n",
      "58/58 [==============================] - 0s 2ms/step - loss: 0.0982 - accuracy: 1.0000\n",
      "Epoch 48/100\n",
      "58/58 [==============================] - 0s 2ms/step - loss: 0.0988 - accuracy: 1.0000\n",
      "Epoch 49/100\n",
      "58/58 [==============================] - 0s 2ms/step - loss: 0.0982 - accuracy: 1.0000\n",
      "Epoch 50/100\n",
      "58/58 [==============================] - 0s 2ms/step - loss: 0.0980 - accuracy: 1.0000\n",
      "Epoch 51/100\n",
      "58/58 [==============================] - 0s 2ms/step - loss: 0.0976 - accuracy: 1.0000\n",
      "Epoch 52/100\n",
      "58/58 [==============================] - 0s 2ms/step - loss: 0.0974 - accuracy: 1.0000\n",
      "Epoch 53/100\n",
      "58/58 [==============================] - 0s 2ms/step - loss: 0.0970 - accuracy: 1.0000\n",
      "Epoch 54/100\n",
      "58/58 [==============================] - 0s 2ms/step - loss: 0.0966 - accuracy: 1.0000\n",
      "Epoch 55/100\n",
      "58/58 [==============================] - 0s 2ms/step - loss: 0.0968 - accuracy: 1.0000\n",
      "Epoch 56/100\n",
      "58/58 [==============================] - 0s 2ms/step - loss: 0.0965 - accuracy: 1.0000\n",
      "Epoch 57/100\n",
      "58/58 [==============================] - 0s 2ms/step - loss: 0.0958 - accuracy: 1.0000\n",
      "Epoch 58/100\n",
      "58/58 [==============================] - 0s 2ms/step - loss: 0.0961 - accuracy: 1.0000\n",
      "Epoch 59/100\n",
      "58/58 [==============================] - 0s 2ms/step - loss: 0.0967 - accuracy: 1.0000\n",
      "Epoch 60/100\n",
      "58/58 [==============================] - 0s 2ms/step - loss: 0.0959 - accuracy: 1.0000\n",
      "Epoch 61/100\n",
      "58/58 [==============================] - 0s 2ms/step - loss: 0.0959 - accuracy: 1.0000\n",
      "Epoch 62/100\n",
      "58/58 [==============================] - 0s 2ms/step - loss: 0.0955 - accuracy: 1.0000\n",
      "Epoch 63/100\n",
      "58/58 [==============================] - 0s 2ms/step - loss: 0.0956 - accuracy: 1.0000\n",
      "Epoch 64/100\n",
      "58/58 [==============================] - 0s 2ms/step - loss: 0.0946 - accuracy: 1.0000\n",
      "Epoch 65/100\n",
      "58/58 [==============================] - 0s 2ms/step - loss: 0.0950 - accuracy: 1.0000\n",
      "Epoch 66/100\n",
      "58/58 [==============================] - 0s 2ms/step - loss: 0.0955 - accuracy: 1.0000\n",
      "Epoch 67/100\n",
      "58/58 [==============================] - 0s 2ms/step - loss: 0.0953 - accuracy: 1.0000\n",
      "Epoch 68/100\n",
      "58/58 [==============================] - 0s 2ms/step - loss: 0.0938 - accuracy: 1.0000\n",
      "Epoch 69/100\n",
      "58/58 [==============================] - 0s 2ms/step - loss: 0.0945 - accuracy: 1.0000\n",
      "Epoch 70/100\n",
      "58/58 [==============================] - 0s 2ms/step - loss: 0.0946 - accuracy: 1.0000\n",
      "Epoch 71/100\n",
      "58/58 [==============================] - 0s 2ms/step - loss: 0.0946 - accuracy: 1.0000\n",
      "Epoch 72/100\n",
      "58/58 [==============================] - 0s 2ms/step - loss: 0.0936 - accuracy: 1.0000\n",
      "Epoch 73/100\n",
      "58/58 [==============================] - 0s 2ms/step - loss: 0.0932 - accuracy: 1.0000\n",
      "Epoch 74/100\n",
      "58/58 [==============================] - 0s 2ms/step - loss: 0.0934 - accuracy: 1.0000\n",
      "Epoch 75/100\n",
      "58/58 [==============================] - 0s 2ms/step - loss: 0.0934 - accuracy: 1.0000\n",
      "Epoch 76/100\n",
      "58/58 [==============================] - 0s 2ms/step - loss: 0.0931 - accuracy: 1.0000\n",
      "Epoch 77/100\n",
      "58/58 [==============================] - 0s 2ms/step - loss: 0.0928 - accuracy: 1.0000\n",
      "Epoch 78/100\n",
      "58/58 [==============================] - 0s 2ms/step - loss: 0.0931 - accuracy: 1.0000\n",
      "Epoch 79/100\n",
      "58/58 [==============================] - 0s 2ms/step - loss: 0.0934 - accuracy: 1.0000\n",
      "Epoch 80/100\n",
      "58/58 [==============================] - 0s 2ms/step - loss: 0.0921 - accuracy: 1.0000\n",
      "Epoch 81/100\n",
      "58/58 [==============================] - 0s 2ms/step - loss: 0.0927 - accuracy: 1.0000\n",
      "Epoch 82/100\n",
      "58/58 [==============================] - 0s 2ms/step - loss: 0.0941 - accuracy: 1.0000\n",
      "Epoch 83/100\n",
      "58/58 [==============================] - 0s 2ms/step - loss: 0.0930 - accuracy: 1.0000\n",
      "Epoch 84/100\n",
      "58/58 [==============================] - 0s 2ms/step - loss: 0.0918 - accuracy: 1.0000\n",
      "Epoch 85/100\n",
      "58/58 [==============================] - 0s 2ms/step - loss: 0.0931 - accuracy: 1.0000\n",
      "Epoch 86/100\n",
      "58/58 [==============================] - 0s 2ms/step - loss: 0.0912 - accuracy: 1.0000\n",
      "Epoch 87/100\n",
      "58/58 [==============================] - 0s 2ms/step - loss: 0.0923 - accuracy: 1.0000\n",
      "Epoch 88/100\n",
      "58/58 [==============================] - 0s 2ms/step - loss: 0.0922 - accuracy: 1.0000\n",
      "Epoch 89/100\n",
      "58/58 [==============================] - 0s 2ms/step - loss: 0.0911 - accuracy: 1.0000\n",
      "Epoch 90/100\n",
      "58/58 [==============================] - 0s 2ms/step - loss: 0.0923 - accuracy: 1.0000\n",
      "Epoch 91/100\n",
      "58/58 [==============================] - 0s 2ms/step - loss: 0.0917 - accuracy: 1.0000\n",
      "Epoch 92/100\n",
      "58/58 [==============================] - 0s 2ms/step - loss: 0.0922 - accuracy: 1.0000\n",
      "Epoch 93/100\n",
      "58/58 [==============================] - 0s 2ms/step - loss: 0.0918 - accuracy: 1.0000\n",
      "Epoch 94/100\n",
      "58/58 [==============================] - 0s 2ms/step - loss: 0.0907 - accuracy: 1.0000\n",
      "Epoch 95/100\n",
      "58/58 [==============================] - 0s 2ms/step - loss: 0.0915 - accuracy: 1.0000\n",
      "Epoch 96/100\n",
      "58/58 [==============================] - 0s 2ms/step - loss: 0.0917 - accuracy: 1.0000\n",
      "Epoch 97/100\n",
      "58/58 [==============================] - 0s 2ms/step - loss: 0.0909 - accuracy: 1.0000\n",
      "Epoch 98/100\n",
      "58/58 [==============================] - 0s 2ms/step - loss: 0.0918 - accuracy: 1.0000\n",
      "Epoch 99/100\n",
      "58/58 [==============================] - 0s 2ms/step - loss: 0.0911 - accuracy: 1.0000\n",
      "Epoch 100/100\n",
      "58/58 [==============================] - 0s 2ms/step - loss: 0.0910 - accuracy: 1.0000\n"
     ]
    },
    {
     "data": {
      "text/plain": [
       "<tensorflow.python.keras.callbacks.History at 0x25de22ecc10>"
      ]
     },
     "execution_count": 55,
     "metadata": {},
     "output_type": "execute_result"
    }
   ],
   "source": [
    "model.fit(inpu, oup, epochs=100, verbose=1)"
   ]
  },
  {
   "cell_type": "code",
   "execution_count": 53,
   "metadata": {},
   "outputs": [],
   "source": [
    "model.save('C:\\TensorWeather\\\\TW_accident.h5')"
   ]
  },
  {
   "cell_type": "code",
   "execution_count": 32,
   "metadata": {},
   "outputs": [],
   "source": [
    "model = load_model('C:\\TensorWeather\\\\TW_accident.h5')"
   ]
  },
  {
   "cell_type": "code",
   "execution_count": 36,
   "metadata": {
    "scrolled": true
   },
   "outputs": [
    {
     "data": {
      "text/plain": [
       "array([[459.2413   ,   6.8050046]], dtype=float32)"
      ]
     },
     "execution_count": 36,
     "metadata": {},
     "output_type": "execute_result"
    }
   ],
   "source": [
    "model.predict(inpu[0:1])"
   ]
  },
  {
   "cell_type": "code",
   "execution_count": 47,
   "metadata": {},
   "outputs": [
    {
     "data": {
      "image/png": "[encoded data removed]",
      "text/plain": [
       "<Figure size 432x288 with 1 Axes>"
      ]
     },
     "metadata": {
      "needs_background": "light"
     },
     "output_type": "display_data"
    }
   ],
   "source": [
    "plt.plot(model.predict(inpu[0:200]), label = \"Pred\")\n",
    "plt.plot(oup[0:200], label = \"Real\")\n",
    "plt.title(\"Traffic Accident\")\n",
    "plt.xlabel('Time',fontsize=18)\n",
    "plt.ylabel('Accident',fontsize=18)\n",
    "plt.legend()\n",
    "plt.show()"
   ]
  },
  {
   "cell_type": "code",
   "execution_count": 26,
   "metadata": {},
   "outputs": [
    {
     "data": {
      "text/plain": [
       "563.7297"
      ]
     },
     "execution_count": 26,
     "metadata": {},
     "output_type": "execute_result"
    }
   ],
   "source": [
    "test[0][0]"
   ]
  },
  {
   "cell_type": "code",
   "execution_count": 61,
   "metadata": {},
   "outputs": [
    {
     "data": {
      "text/plain": [
       "(    accident  dead\n",
       " 0        430     4\n",
       " 1        508     8\n",
       " 2        513    16\n",
       " 3        469    17\n",
       " 4        637    15\n",
       " 5        560    18\n",
       " 6        547    14\n",
       " 7        533     8\n",
       " 8        596     8\n",
       " 9        615    10\n",
       " 10       478    15,\n",
       "     avgTemp  minTemp  maxTemp  rainFall\n",
       " 0      -4.9     -7.4     -1.9       0.5\n",
       " 1      -3.8     -7.6      0.8       0.3\n",
       " 2      -2.3     -9.3      4.3       0.0\n",
       " 3       2.4     -2.6      9.8       0.0\n",
       " 4       3.8     -2.7     10.1       4.1\n",
       " 5       1.8     -3.3      7.1       4.7\n",
       " 6      -3.0     -6.5      1.6       0.0\n",
       " 7      -2.5     -7.8      3.3       0.0\n",
       " 8      -0.2     -5.1      4.9       0.0\n",
       " 9       1.0     -4.2      6.7       0.0\n",
       " 10      1.0     -3.3      6.0       0.1)"
      ]
     },
     "execution_count": 61,
     "metadata": {},
     "output_type": "execute_result"
    }
   ],
   "source": [
    "oup[0:11], inpu[0:11]"
   ]
  },
  {
   "cell_type": "code",
   "execution_count": 62,
   "metadata": {},
   "outputs": [
    {
     "data": {
      "text/plain": [
       "[array([[-0.29505503,  0.41499308,  0.5795151 ,  0.5349923 ,  0.04886641,\n",
       "          0.06933938, -0.39491805,  0.02758169, -0.3070455 , -0.01279127,\n",
       "          0.62697697,  0.76672816,  0.57966465,  0.71251285,  0.40659606,\n",
       "          0.03517185,  0.54266715,  0.00822243, -0.4700883 , -0.66863215],\n",
       "        [-1.045879  ,  0.502164  , -0.23560199, -0.34750253,  0.19453558,\n",
       "          0.020242  , -0.5380779 , -0.5374877 , -1.069828  , -1.2285682 ,\n",
       "          0.33851293,  0.50497013, -0.03460196, -0.45668212, -0.05405033,\n",
       "         -0.97894263, -0.15198563, -0.5075526 , -0.56528735, -0.4527037 ],\n",
       "        [ 0.89523476,  0.13872215,  0.63887596, -0.15998214, -0.510239  ,\n",
       "         -0.11454341,  0.56757456,  0.79457843,  0.9600751 ,  0.48730215,\n",
       "          0.41089928, -0.07570257,  0.11439729,  0.5757477 , -0.45635724,\n",
       "          0.54736775,  0.07702803, -0.23766838,  0.41791633,  0.8263715 ],\n",
       "        [ 0.14939032,  0.3077568 ,  0.42770386, -0.9811961 ,  0.08025413,\n",
       "         -0.27178955,  0.1137118 ,  0.38379017,  0.09111434,  0.2090466 ,\n",
       "         -0.15970097,  0.61975664,  0.23423423, -0.14122666, -0.39069724,\n",
       "          0.11301046,  0.15215509,  0.45547524,  0.08349763,  0.03617168]],\n",
       "       dtype=float32),\n",
       " array([ 3.3447106 ,  0.29224986,  0.20358098, -0.40164524, -0.11859271,\n",
       "        -0.00777898,  1.9686036 ,  1.5599563 ,  3.2124257 ,  1.281204  ,\n",
       "         0.87120104,  1.5508777 ,  1.4265909 ,  1.5693811 , -0.00631645,\n",
       "         2.9671643 ,  0.7386203 ,  0.3777887 ,  1.7497103 ,  2.9311726 ],\n",
       "       dtype=float32),\n",
       " array([[ 1.86396658e-01,  6.79518759e-01, -3.14882517e-01,\n",
       "          2.10603833e-01, -1.55476764e-01,  5.15044749e-01,\n",
       "          2.50570536e-01,  7.75058925e-01, -3.70907515e-01,\n",
       "          5.13414502e-01,  1.22447276e+00, -2.42693320e-01,\n",
       "         -1.43256798e-01,  2.01285616e-01,  9.31480348e-01],\n",
       "        [ 4.36771214e-01,  3.80311646e-02,  1.80593804e-01,\n",
       "          3.53766419e-02,  1.57336488e-01,  6.89169049e-01,\n",
       "          1.41042471e-01,  3.86010259e-01,  2.88015574e-01,\n",
       "          5.30647516e-01,  1.20375872e-01, -4.16508883e-01,\n",
       "         -1.25694364e-01,  1.63147733e-01,  3.35719883e-01],\n",
       "        [ 4.06938553e-01,  5.91950119e-01, -5.41783832e-02,\n",
       "          1.04229907e-02, -2.84750193e-01,  5.64076185e-01,\n",
       "         -2.58971751e-01, -2.02570483e-03, -1.43600479e-01,\n",
       "          6.29218876e-01,  1.81767344e-02,  4.20327857e-02,\n",
       "          4.02913615e-02,  2.86362648e-01,  4.28194284e-01],\n",
       "        [ 1.73440516e-01, -1.39964849e-01, -4.83852714e-01,\n",
       "          7.75119215e-02, -5.05383372e-01,  6.94522858e-01,\n",
       "          4.18454632e-02, -4.64201152e-01,  3.39128315e-01,\n",
       "          6.93301439e-01,  1.81473121e-01, -5.03083318e-02,\n",
       "         -5.71725182e-02, -4.18641478e-01, -6.44820213e-01],\n",
       "        [ 2.92232007e-01, -2.79297203e-01, -8.68074894e-02,\n",
       "          1.32311821e-01,  2.53810644e-01,  8.10697526e-02,\n",
       "         -4.51710612e-01, -4.99123335e-01, -3.09062719e-01,\n",
       "          1.66292489e-01,  5.92948973e-01,  1.96000248e-01,\n",
       "          9.53904986e-02, -2.12202042e-01, -5.99656880e-01],\n",
       "        [ 2.41617590e-01, -3.94951910e-01, -2.18070541e-02,\n",
       "         -2.85754483e-02, -3.11732948e-01, -1.58853233e-01,\n",
       "          3.29815686e-01, -2.92835027e-01,  2.29453176e-01,\n",
       "         -9.54183117e-02,  2.05430180e-01, -3.33355784e-01,\n",
       "          7.25480095e-02, -8.35385621e-02,  3.41616958e-01],\n",
       "        [ 4.66218621e-01,  1.99330419e-01, -3.40068907e-01,\n",
       "         -4.34021652e-01, -4.32645455e-02,  2.67652363e-01,\n",
       "          5.19219190e-02,  7.51241922e-01, -1.37435973e-01,\n",
       "          4.28373337e-01,  4.51055467e-01,  2.95212328e-01,\n",
       "          1.34417266e-01,  8.03018212e-01,  1.09316385e+00],\n",
       "        [ 3.39744896e-01,  8.10529470e-01,  2.54877567e-01,\n",
       "          9.79987979e-02, -1.75382532e-02,  5.55872798e-01,\n",
       "         -1.79121837e-01,  5.25703669e-01,  2.42206380e-01,\n",
       "         -2.29336750e-02,  2.02401787e-01, -2.69749105e-01,\n",
       "         -5.89905441e-01,  5.90122223e-01,  7.18308270e-01],\n",
       "        [ 4.39347714e-01,  1.09621477e+00, -5.22916853e-01,\n",
       "         -2.32925311e-01,  4.90995318e-01,  5.57315707e-01,\n",
       "          3.15045148e-01,  3.18270713e-01,  2.59048939e-01,\n",
       "          9.91489887e-01,  1.22263026e+00,  3.70651223e-02,\n",
       "         -3.20906967e-01,  1.63159728e-01,  1.11209822e+00],\n",
       "        [ 2.63461292e-01,  7.21096694e-01, -1.14279151e-01,\n",
       "         -2.78126728e-02, -3.69409919e-01,  2.59585738e-01,\n",
       "          2.77671367e-01,  2.49412507e-01, -1.67167217e-01,\n",
       "          8.38426828e-01,  1.27046442e+00, -2.40622252e-01,\n",
       "          1.68293372e-01, -1.44674936e-02,  1.21709418e+00],\n",
       "        [ 2.51377583e-01,  5.99507213e-01, -2.49710768e-01,\n",
       "          1.40251189e-01, -6.73594559e-03,  5.45372903e-01,\n",
       "          4.52105775e-02,  4.73109871e-01, -5.27304411e-02,\n",
       "          5.11487842e-01,  7.26020038e-02, -1.25503808e-01,\n",
       "          1.95850149e-01, -1.22792736e-01,  2.94401139e-01],\n",
       "        [ 1.59694657e-01,  4.85430956e-01,  3.84576875e-03,\n",
       "         -2.09364831e-01,  3.16090405e-01,  5.98219872e-01,\n",
       "          2.07019657e-01,  1.34003177e-01, -2.77119726e-01,\n",
       "         -1.02743335e-01, -2.46679038e-01,  3.13211590e-01,\n",
       "          2.76325881e-01, -6.05456606e-02,  4.79700983e-01],\n",
       "        [ 2.92641241e-02,  4.69819218e-01,  2.38236934e-01,\n",
       "         -1.70993581e-01, -9.23053324e-02,  3.16704720e-01,\n",
       "         -4.27660793e-02,  3.62147480e-01, -4.48732041e-02,\n",
       "         -1.02514774e-01, -1.44011974e-01, -3.25099587e-01,\n",
       "         -4.70036238e-01,  7.15466291e-02,  2.92789966e-01],\n",
       "        [-2.45427266e-01,  7.36990154e-01, -1.71673924e-01,\n",
       "         -3.03939860e-02,  4.13037717e-01,  3.21568638e-01,\n",
       "         -2.17040420e-01,  4.99966621e-01, -3.64947557e-01,\n",
       "          3.97515684e-01,  6.22260034e-01,  1.35617286e-01,\n",
       "         -5.55578947e-01, -2.31479891e-02,  4.91969109e-01],\n",
       "        [-3.01195920e-01, -3.81860495e-01, -7.58013204e-02,\n",
       "          2.40086645e-01,  2.08049119e-02, -5.95482290e-02,\n",
       "         -1.68313414e-01, -2.74174958e-01, -1.18185639e-01,\n",
       "          2.01485887e-01,  2.45683819e-01, -5.54173291e-02,\n",
       "         -9.20140520e-02,  3.33881348e-01, -3.97558630e-01],\n",
       "        [ 4.34867382e-01,  6.53944552e-01, -1.07699730e-01,\n",
       "          2.02516258e-01, -1.28399611e-01,  2.71358997e-01,\n",
       "         -1.58860624e-01,  5.87910771e-01, -3.94037068e-01,\n",
       "          3.21636498e-01,  8.82804275e-01,  1.73185199e-01,\n",
       "          3.32161754e-01,  3.79400551e-01,  8.98550808e-01],\n",
       "        [ 4.88037989e-02,  2.97756046e-02,  3.02499861e-01,\n",
       "         -4.44031656e-01, -4.48552579e-01,  6.43443763e-01,\n",
       "         -4.43197221e-01,  3.26940149e-01,  1.25332206e-01,\n",
       "          2.32858375e-01, -2.08484501e-01, -7.93816149e-02,\n",
       "          2.33159646e-01,  6.12439215e-01,  7.97534883e-01],\n",
       "        [ 3.84690851e-01,  3.74084324e-01,  1.91999376e-01,\n",
       "         -4.18801248e-01, -3.11976492e-01,  2.42663111e-04,\n",
       "         -3.02118450e-01,  1.48477346e-01,  6.34207129e-02,\n",
       "         -1.25462845e-01,  3.53970736e-01, -3.13179523e-01,\n",
       "         -2.15006426e-01,  1.25657693e-01,  2.89182812e-01],\n",
       "        [ 5.50761968e-02,  1.01052368e+00,  2.77352422e-01,\n",
       "         -6.88834041e-02, -1.46053908e-02,  5.91557980e-01,\n",
       "          2.49108002e-01,  7.66108215e-01,  1.93292007e-01,\n",
       "          6.00569904e-01,  8.27906251e-01, -2.40778804e-01,\n",
       "          1.58786371e-01,  4.04085636e-01,  8.24798226e-01],\n",
       "        [ 3.45999509e-01,  5.29464722e-01, -1.16850674e-01,\n",
       "          9.69104692e-02,  2.81575382e-01,  4.73981023e-01,\n",
       "          1.48795187e-01,  3.07068586e-01,  2.21678726e-02,\n",
       "          5.29081702e-01,  1.14739633e+00,  3.31051387e-02,\n",
       "          2.64368236e-01,  4.98389393e-01,  9.12183762e-01]], dtype=float32),\n",
       " array([-0.4372605 ,  1.3640292 , -0.6286669 , -0.10399314,  1.0130861 ,\n",
       "         0.08579732,  0.8805153 ,  1.2854577 , -0.04916044, -0.18269046,\n",
       "         0.42767426, -0.06684832, -0.07261214,  1.186381  ,  1.88799   ],\n",
       "       dtype=float32),\n",
       " array([[ 0.5190849 , -0.5173513 ],\n",
       "        [ 1.3422878 ,  0.3439166 ],\n",
       "        [-2.2938948 , -0.37355235],\n",
       "        [-0.11712341, -0.11578485],\n",
       "        [ 1.7209615 ,  0.578262  ],\n",
       "        [ 0.8417218 , -0.31801337],\n",
       "        [ 1.3579301 ,  0.27022177],\n",
       "        [ 1.2773713 ,  0.4746641 ],\n",
       "        [-0.40545103, -0.42832676],\n",
       "        [ 1.0164182 , -0.5230504 ],\n",
       "        [ 1.7426271 , -0.15957354],\n",
       "        [-0.3998846 ,  0.4502364 ],\n",
       "        [-0.48022097,  0.27661055],\n",
       "        [ 1.1640419 ,  0.5467596 ],\n",
       "        [ 1.4785964 ,  0.08958119]], dtype=float32),\n",
       " array([3.7191558, 0.8795554], dtype=float32)]"
      ]
     },
     "execution_count": 62,
     "metadata": {},
     "output_type": "execute_result"
    }
   ],
   "source": [
    "#가중치 확인\n",
    "model.get_weights()"
   ]
  }
 ],
 "metadata": {
  "kernelspec": {
   "display_name": "tf-gpu",
   "language": "python",
   "name": "tf-gpu"
  },
  "language_info": {
   "codemirror_mode": {
    "name": "ipython",
    "version": 3
   },
   "file_extension": ".py",
   "mimetype": "text/x-python",
   "name": "python",
   "nbconvert_exporter": "python",
   "pygments_lexer": "ipython3",
   "version": "3.8.5"
  }
 },
 "nbformat": 4,
 "nbformat_minor": 4
}
